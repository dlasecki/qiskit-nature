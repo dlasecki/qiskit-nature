{
 "cells": [
  {
   "cell_type": "code",
   "execution_count": 113,
   "id": "piano-psychology",
   "metadata": {},
   "outputs": [],
   "source": [
    "import time\n",
    "import itertools\n",
    "from typing import List, Tuple\n",
    "from sympy import *\n",
    "import numpy as np\n",
    "from qiskit.quantum_info.operators import Operator, Pauli\n",
    "from qiskit.aqua.operators import SummedOp, PauliOp\n",
    "from qiskit.aqua.operators import I, X, Y, Z\n",
    "\n",
    "from qiskit_nature.problems.sampling.folding import LatticeFoldingProblem"
   ]
  },
  {
   "cell_type": "code",
   "execution_count": 114,
   "id": "amateur-scanner",
   "metadata": {},
   "outputs": [],
   "source": [
    "N = 5\n",
    "side_chain = [0]*N\n",
    "lambda_back = 10"
   ]
  },
  {
   "cell_type": "code",
   "execution_count": 115,
   "id": "speaking-bradley",
   "metadata": {},
   "outputs": [],
   "source": [
    "lf = LatticeFoldingProblem()"
   ]
  },
  {
   "cell_type": "code",
   "execution_count": 116,
   "id": "proper-ordering",
   "metadata": {},
   "outputs": [
    {
     "name": "stdout",
     "output_type": "stream",
     "text": [
      "number of qubits required for conformation:  3\n",
      "10  distances created\n",
      "number of qubits required for contact :  0\n",
      "total number of qubits required : 3\n",
      "number of terms in the hamiltonian :  4\n",
      "Hamiltonian:  -5*\\sigma^z_{5}*\\sigma^z_{7}*\\sigma^z_{8}/2 + 5*\\sigma^z_{5}*\\sigma^z_{7}/2 - 5*\\sigma^z_{8}/2 + 5/2\n",
      "mask at term 0 is [0. 0. 0.]\n",
      "mask at term 1 is [0. 0. 1.]\n",
      "mask at term 2 is [1. 1. 0.]\n",
      "mask at term 3 is [1. 1. 1.]\n",
      "pauli_list:  [array([-2.5, Pauli('ZZZ')], dtype=object), array([2.5, Pauli('IZZ')], dtype=object), array([-2.5, Pauli('ZII')], dtype=object), array([2.5, Pauli('III')], dtype=object)]\n"
     ]
    },
    {
     "name": "stderr",
     "output_type": "stream",
     "text": [
      "/home/davindratulsi/Desktop/qiskit-nature-fork/qiskit-nature/qiskit_nature/problems/sampling/folding/folding_qubit_op_builder.py:848: VisibleDeprecationWarning: Creating an ndarray from ragged nested sequences (which is a list-or-tuple of lists-or-tuples-or ndarrays with different lengths or shapes) is deprecated. If you meant to do this, you must specify 'dtype=object' when creating the ndarray.\n",
      "  pauli_list = list(np.flip(np.array(pauli_list), axis=0))\n"
     ]
    },
    {
     "data": {
      "text/plain": [
       "SummedOp([PauliOp(Pauli('ZZZ'), coeff=-2.5), PauliOp(Pauli('IZZ'), coeff=2.5), PauliOp(Pauli('ZII'), coeff=-2.5), PauliOp(Pauli('III'), coeff=2.5)], coeff=1.0, abelian=False)"
      ]
     },
     "execution_count": 116,
     "metadata": {},
     "output_type": "execute_result"
    }
   ],
   "source": [
    "lf.pauli_op()"
   ]
  },
  {
   "cell_type": "markdown",
   "id": "valuable-booking",
   "metadata": {},
   "source": [
    "## Test with replacing dictionaries with numpy arrays, build geometrical constraint contribution to Hamiltonian (prevent chain from folding back on itself), H_back\n",
    "\n",
    "Ideally, we would like to remove/replace dictionaries of Pauli terms as well as the symbolic math notation. The symbolic math notation gives  a nice visual representation of the Hamiltonian, however, subsitution methods to simplify the Hamiltonian are slow. Replace symbolic Paulis with operators?"
   ]
  },
  {
   "cell_type": "code",
   "execution_count": 126,
   "id": "minor-worse",
   "metadata": {},
   "outputs": [],
   "source": [
    "def _create_pauli_for_conf(N):\n",
    "    \"\"\"\n",
    "    Create dictionary of Pauli operators that define the conformation\n",
    "    of a peptide fold in an Ising spin glass model. The Pauli operator,\n",
    "    sigma^z_{i} is related to the qubit register, q_i as follows:\n",
    "    sigma^z_{i} = 1 - 2*q_i.\n",
    "\n",
    "    Args:\n",
    "        N: Number of total beads in peptide\n",
    "\n",
    "    Returns:\n",
    "        pauli_conf: Dictionary of Pauli Z-matrices in symbolic\n",
    "                    math notation for all 2*(N-1) turns.\n",
    "                    Note that each turn consists of two Pauli\n",
    "                    terms, pauli_conf[i][0] and pauli_conf[i][1]\n",
    "                    corresponding to the backbone and side chain\n",
    "                    beads respectively.\n",
    "    \"\"\"\n",
    "    num_turns = 2*(N - 1)\n",
    "    pauli_conf = np.zeros((num_turns, 2), dtype=object)\n",
    "#     pauli_conf = dict()\n",
    "    for i in range(num_turns):\n",
    "#         pauli_conf[i] = dict()\n",
    "        pauli_conf[i][0] = symbols(\"\\sigma^z_{}\".format({i}))\n",
    "        pauli_conf[i][1] = symbols(\"\\sigma^z_\"+\"{\" + \"{}\".format({i}) + \"^{(1)}\"+\"}\")\n",
    "    return pauli_conf\n",
    "\n",
    "def _create_qubits_for_conf(pauli_conf):\n",
    "    \"\"\"\n",
    "    Create conformation qubits based on the Pauli Z operators,\n",
    "    for backbone and side chain beads. Conversely as above,\n",
    "    this transformation moves from the spin (-1,1) Hamiltonian\n",
    "    to the qubit (0,1) Hamiltonian. That is, qubit, q_i is\n",
    "    transformed as (1 - sigma^z_{i})/2\n",
    "\n",
    "    Args:\n",
    "        pauli_conf: Dictionary of Pauli Z-matrices in\n",
    "                    symbolic math notation\n",
    "\n",
    "    Returns:\n",
    "        qubits: Dictionary of qubits in symbolic notation.\n",
    "                Note that each turn consists of two qubit\n",
    "                registers, qubits[i][0] and qubits[i][1]\n",
    "                corresponding to the backbone and side chain\n",
    "                beads respectively.\n",
    "    \"\"\"\n",
    "    # qubits = dict()\n",
    "    qubits = np.zeros(pauli_conf.shape, dtype=object)\n",
    "    num_turns = qubits.shape[0]\n",
    "    for i in range(num_turns):\n",
    "    # for i in range(1, len(pauli_conf) + 1):\n",
    "    #     qubits[i] = dict()\n",
    "        qubits[i][0] = (1 - pauli_conf[i][0])/2\n",
    "        qubits[i][1] = (1 - pauli_conf[i][1])/2\n",
    "    return qubits\n",
    "\n",
    "\n",
    "def _create_indic_turn(N, side_chain, qubits):\n",
    "    \"\"\"\n",
    "    Creates indicator functions that specify the axis chosen for a\n",
    "    corresponding turn. Here, each turn, i (from 1 to N-1) is (densely)\n",
    "    coded on two qubits registers, located at 2i - 1 and 2i.\n",
    "    Each function returned is of the form, indica(i),\n",
    "    which returns 1 if axis, a = 0,1,2,3 is chosen at turn i.\n",
    "\n",
    "    Args:\n",
    "        N: Number of total beads in peptide\n",
    "        side_chain: List of side chains in peptide\n",
    "        qubits: Dictionary of conformation qubits in symbolic notation\n",
    "\n",
    "    Returns:\n",
    "        (indic_0, indic_1, indic_2, indic_3, num_qubits): Turn indicators for the four axes,\n",
    "                                                      0,1,2,3. Note, as in the pauli and qubit\n",
    "                                                      conformation notations,\n",
    "                                                      indic_a[i][0] and indic_a[i][1] refer to\n",
    "                                                      backbone and side chain respectively.\n",
    "    \"\"\"\n",
    "    if len(side_chain)!= N:\n",
    "        raise Exception('size of side_chain list is not equal to N')\n",
    "    # indic_0, indic_1, indic_2, indic_3 = dict(), dict(), dict(), dict()\n",
    "    # for i in range(1, N):\n",
    "    #     indic_0[i] = dict()\n",
    "    #     indic_1[i] = dict()\n",
    "    #     indic_2[i] = dict()\n",
    "    #     indic_3[i] = dict()\n",
    "    num_turns = N - 1 \n",
    "    indic_0 = np.zeros((num_turns, 2), dtype=object)\n",
    "    indic_1 = np.zeros((num_turns, 2), dtype=object)\n",
    "    indic_2 = np.zeros((num_turns, 2), dtype=object)\n",
    "    indic_3 = np.zeros((num_turns, 2), dtype=object)\n",
    "    r_conf = 0\n",
    "    for i in range(num_turns):\n",
    "#     for i in range(1, N):   # There are N-1 turns starting at turn 1\n",
    "        for m in range(2):\n",
    "            if m == 1:\n",
    "                if side_chain[i - 1] == 0:\n",
    "                    continue\n",
    "                else:\n",
    "                    pass\n",
    "            indic_0[i][m] = (1 - qubits[2*i - 1][m])*(1 - qubits[2*i][m])\n",
    "            indic_1[i][m] = qubits[2*i][m]*(qubits[2*i][m] - qubits[2*i - 1][m])\n",
    "            indic_2[i][m] = qubits[2*i - 1][m]*(qubits[2*i - 1][m]-qubits[2*i][m])\n",
    "            indic_3[i][m] = qubits[2*i - 1][m]*qubits[2*i][m]\n",
    "            r_conf += 1\n",
    "    num_qubits = 2*r_conf - 5\n",
    "    print('number of qubits required for conformation: ', num_qubits)\n",
    "    return indic_0, indic_1, indic_2, indic_3, num_qubits\n",
    "\n",
    "def _check_turns(i, p, j, s,\n",
    "                 indic0, indic1, indic2,\n",
    "                 indic3, pauli_conf):\n",
    "    \"\"\"\n",
    "    Checks if consecutive turns are along the same axis. Specifically,\n",
    "    the function is the summation over all axes, a = 0,1,2,3, of the\n",
    "    product of turn indicators, indica(i)*indica(j) for turns i and j.\n",
    "\n",
    "\n",
    "    Args:\n",
    "        i: Backbone bead at turn i\n",
    "        j: Backbone bead at turn j (j > i)\n",
    "        p: Side chain on backbone bead j\n",
    "        s: Side chain on backbone bead i\n",
    "        indic0: Turn indicator for axis 0\n",
    "        indic1: Turn indicator for axis 1\n",
    "        indic2: Turn indicator for axis 2\n",
    "        indic3: Turn indicator for axis 3\n",
    "        pauli_conf: Dictionary of conformation Pauli operators in symbolic notation\n",
    "\n",
    "    Returns:\n",
    "        t_ij: Production of turn indicators in symbolic notation\n",
    "    \"\"\"\n",
    "#     t_ij = _simplify(pauli_conf, indic0[i][p]*indic0[j][s] + indic1[i][p]*indic1[j][s] + \\\n",
    "#                      indic2[i][p]*indic2[j][s] +indic3[i][p]*indic3[j][s])\n",
    "    t_ij = indic0[i][p]*indic0[j][s] + indic1[i][p]*indic1[j][s] + \\\n",
    "           indic2[i][p]*indic2[j][s] +indic3[i][p]*indic3[j][s]   \n",
    "    return t_ij"
   ]
  },
  {
   "cell_type": "code",
   "execution_count": 127,
   "id": "interior-omaha",
   "metadata": {},
   "outputs": [],
   "source": [
    "def _simplify(pauli_conf, x):\n",
    "    \"\"\"\n",
    "    Simplifies a Symbolic Hamiltonian term by reducing the number\n",
    "    of Pauli-Z operators and subsituting pre-defined\n",
    "    values for turns. In specific, all even powers of Pauli \n",
    "    terms in the Symbolic Hamiltonian term are substituted \n",
    "    for a value of 1 since, (sigma^z_{i})**2 = I (identity).\n",
    "    Additionally, the first two turns are fixed to be (in binary)\n",
    "    01 and 00, which translate to 1,-1 and 1,1, respectively in\n",
    "    spin variables. With no side chain on the 2nd bead, we further\n",
    "    fix the value of the 6th qubit, q_6 = 1 (-1 for the corresponding\n",
    "    Pauli).\n",
    "\n",
    "    Args:\n",
    "        pauli_conf: Dictionary of Pauli operators\n",
    "        x: Symbolic Hamiltonian term to be simplifed\n",
    "\n",
    "    Returns:\n",
    "        x: Simplified Symbolic Hamiltonian\n",
    "    \"\"\"\n",
    "    first_binaries = [1, -1, 1, 1, 0, -1] # hardcoded, fix this\n",
    "    num_terms = pauli_conf.shape[0]\n",
    "    if x == 0:\n",
    "        return 0\n",
    "    else:\n",
    "        x = x.expand()\n",
    "        x = x.subs({pauli_conf[k][0]: first_binaries[k-1] for k in [1, 2, 3, 4, 6]})\n",
    "#         for m in range(4, 1, -1):\n",
    "        for m in [4, 3, 2]:\n",
    "#             x = x.subs({pauli_conf[k][0]**m: (pauli_conf[k][0])**(m%2) for k in pauli_conf})\n",
    "#             x = x.subs({pauli_conf[k][1]**m: (pauli_conf[k][1])**(m%2) for k in pauli_conf})\n",
    "            x = x.subs({pauli_conf[k][0]**m: (pauli_conf[k][0])**(m%2) for k in range(num_terms)})\n",
    "            x = x.subs({pauli_conf[k][1]**m: (pauli_conf[k][1])**(m%2) for k in range(num_terms)})\n",
    "#             x = x.subs({pauli_conf[k][0]: first_binaries[k-1] for k in [1, 2, 3, 4, 6]})\n",
    "    return x\n",
    "\n",
    "\n",
    "def _create_H_back(N, lambda_back, indic_0,\n",
    "                   indic_1, indic_2, indic_3,\n",
    "                   pauli_conf):\n",
    "    \"\"\"\n",
    "    Creates Hamiltonian that imposes the geometrical constraint wherein consecutive turns\n",
    "    (N - 1) along the same axis are penalized by a factor, lambda_back. Note,\n",
    "    that the first two turns are omitted.\n",
    "\n",
    "    Args:\n",
    "        N: Number of total beads in peptide\n",
    "        lambda_back: Constrain that penalizes turns along the same axis\n",
    "        indic_0: Turn indicator for axis 0\n",
    "        indic_1: Turn indicator for axis 1\n",
    "        indic_2: Turn indicator for axis 2\n",
    "        indic_3: Turn indicator for axis 3\n",
    "        pauli_conf: Dictionary of conformation Pauli operators in symbolic notation\n",
    "\n",
    "    Returns:\n",
    "        H_back: Contribution to Hamiltonian in symbolic notation that penalizes\n",
    "                consecutive turns along the same axis\n",
    "    \"\"\"\n",
    "    H_back = 0\n",
    "#     for i in range(1, N - 1):\n",
    "    for i in range(N - 2):\n",
    "        H_back += lambda_back*_check_turns(i, 0, i + 1, 0,\n",
    "                                           indic_0, indic_1, indic_2, indic_3, pauli_conf)\n",
    "#     H_back = _simplify(pauli_conf, H_back)\n",
    "    return H_back"
   ]
  },
  {
   "cell_type": "code",
   "execution_count": 121,
   "id": "dangerous-harris",
   "metadata": {},
   "outputs": [
    {
     "name": "stdout",
     "output_type": "stream",
     "text": [
      "number of qubits required for conformation:  3\n",
      "--- 0.22611165046691895 seconds ---\n"
     ]
    }
   ],
   "source": [
    "start_time = time.time()\n",
    "pauli_conf = _create_pauli_for_conf(N)\n",
    "qubits = _create_qubits_for_conf(pauli_conf)\n",
    "indic_0, indic_1, indic_2, indic_3, num_qubits = _create_indic_turn(N, side_chain, qubits)\n",
    "H_back = _create_H_back(N, lambda_back, indic_0, indic_1, indic_2, indic_3, pauli_conf)\n",
    "H_back_simplified = _simplify(pauli_conf, H_back)\n",
    "print(\"--- %s seconds ---\" % (time.time() - start_time))"
   ]
  },
  {
   "cell_type": "code",
   "execution_count": 124,
   "id": "prospective-boxing",
   "metadata": {},
   "outputs": [
    {
     "data": {
      "text/latex": [
       "$\\displaystyle 10 \\left(\\frac{1}{2} - \\frac{\\sigma^z_{0}}{2}\\right) \\left(\\frac{1}{2} - \\frac{\\sigma^z_{1}}{2}\\right) \\left(\\frac{1}{2} - \\frac{\\sigma^z_{2}}{2}\\right) \\left(\\frac{1}{2} - \\frac{\\sigma^z_{7}}{2}\\right) + 10 \\left(\\frac{1}{2} - \\frac{\\sigma^z_{0}}{2}\\right) \\left(\\frac{1}{2} - \\frac{\\sigma^z_{2}}{2}\\right) \\left(- \\frac{\\sigma^z_{0}}{2} + \\frac{\\sigma^z_{7}}{2}\\right) \\left(\\frac{\\sigma^z_{1}}{2} - \\frac{\\sigma^z_{2}}{2}\\right) + 10 \\left(\\frac{1}{2} - \\frac{\\sigma^z_{1}}{2}\\right) \\left(\\frac{1}{2} - \\frac{\\sigma^z_{2}}{2}\\right) \\left(\\frac{1}{2} - \\frac{\\sigma^z_{3}}{2}\\right) \\left(\\frac{1}{2} - \\frac{\\sigma^z_{4}}{2}\\right) + 10 \\left(\\frac{1}{2} - \\frac{\\sigma^z_{1}}{2}\\right) \\left(\\frac{1}{2} - \\frac{\\sigma^z_{3}}{2}\\right) \\left(- \\frac{\\sigma^z_{1}}{2} + \\frac{\\sigma^z_{2}}{2}\\right) \\left(- \\frac{\\sigma^z_{3}}{2} + \\frac{\\sigma^z_{4}}{2}\\right) + 10 \\left(\\frac{1}{2} - \\frac{\\sigma^z_{1}}{2}\\right) \\left(\\frac{1}{2} - \\frac{\\sigma^z_{7}}{2}\\right) \\left(\\frac{\\sigma^z_{0}}{2} - \\frac{\\sigma^z_{7}}{2}\\right) \\left(- \\frac{\\sigma^z_{1}}{2} + \\frac{\\sigma^z_{2}}{2}\\right) + 10 \\left(\\frac{1}{2} - \\frac{\\sigma^z_{2}}{2}\\right) \\left(\\frac{1}{2} - \\frac{\\sigma^z_{4}}{2}\\right) \\left(\\frac{\\sigma^z_{1}}{2} - \\frac{\\sigma^z_{2}}{2}\\right) \\left(\\frac{\\sigma^z_{3}}{2} - \\frac{\\sigma^z_{4}}{2}\\right) + 10 \\left(\\frac{1}{2} - \\frac{\\sigma^z_{3}}{2}\\right) \\left(\\frac{1}{2} - \\frac{\\sigma^z_{4}}{2}\\right) \\left(\\frac{1}{2} - \\frac{\\sigma^z_{5}}{2}\\right) \\left(\\frac{1}{2} - \\frac{\\sigma^z_{6}}{2}\\right) + 10 \\left(\\frac{1}{2} - \\frac{\\sigma^z_{3}}{2}\\right) \\left(\\frac{1}{2} - \\frac{\\sigma^z_{5}}{2}\\right) \\left(- \\frac{\\sigma^z_{3}}{2} + \\frac{\\sigma^z_{4}}{2}\\right) \\left(- \\frac{\\sigma^z_{5}}{2} + \\frac{\\sigma^z_{6}}{2}\\right) + 10 \\left(\\frac{1}{2} - \\frac{\\sigma^z_{4}}{2}\\right) \\left(\\frac{1}{2} - \\frac{\\sigma^z_{6}}{2}\\right) \\left(\\frac{\\sigma^z_{3}}{2} - \\frac{\\sigma^z_{4}}{2}\\right) \\left(\\frac{\\sigma^z_{5}}{2} - \\frac{\\sigma^z_{6}}{2}\\right) + 10 \\left(\\frac{\\sigma^z_{0}}{2} + \\frac{1}{2}\\right) \\left(\\frac{\\sigma^z_{1}}{2} + \\frac{1}{2}\\right) \\left(\\frac{\\sigma^z_{2}}{2} + \\frac{1}{2}\\right) \\left(\\frac{\\sigma^z_{7}}{2} + \\frac{1}{2}\\right) + 10 \\left(\\frac{\\sigma^z_{1}}{2} + \\frac{1}{2}\\right) \\left(\\frac{\\sigma^z_{2}}{2} + \\frac{1}{2}\\right) \\left(\\frac{\\sigma^z_{3}}{2} + \\frac{1}{2}\\right) \\left(\\frac{\\sigma^z_{4}}{2} + \\frac{1}{2}\\right) + 10 \\left(\\frac{\\sigma^z_{3}}{2} + \\frac{1}{2}\\right) \\left(\\frac{\\sigma^z_{4}}{2} + \\frac{1}{2}\\right) \\left(\\frac{\\sigma^z_{5}}{2} + \\frac{1}{2}\\right) \\left(\\frac{\\sigma^z_{6}}{2} + \\frac{1}{2}\\right)$"
      ],
      "text/plain": [
       "10*(1/2 - \\sigma^z_{0}/2)*(1/2 - \\sigma^z_{1}/2)*(1/2 - \\sigma^z_{2}/2)*(1/2 - \\sigma^z_{7}/2) + 10*(1/2 - \\sigma^z_{0}/2)*(1/2 - \\sigma^z_{2}/2)*(-\\sigma^z_{0}/2 + \\sigma^z_{7}/2)*(\\sigma^z_{1}/2 - \\sigma^z_{2}/2) + 10*(1/2 - \\sigma^z_{1}/2)*(1/2 - \\sigma^z_{2}/2)*(1/2 - \\sigma^z_{3}/2)*(1/2 - \\sigma^z_{4}/2) + 10*(1/2 - \\sigma^z_{1}/2)*(1/2 - \\sigma^z_{3}/2)*(-\\sigma^z_{1}/2 + \\sigma^z_{2}/2)*(-\\sigma^z_{3}/2 + \\sigma^z_{4}/2) + 10*(1/2 - \\sigma^z_{1}/2)*(1/2 - \\sigma^z_{7}/2)*(\\sigma^z_{0}/2 - \\sigma^z_{7}/2)*(-\\sigma^z_{1}/2 + \\sigma^z_{2}/2) + 10*(1/2 - \\sigma^z_{2}/2)*(1/2 - \\sigma^z_{4}/2)*(\\sigma^z_{1}/2 - \\sigma^z_{2}/2)*(\\sigma^z_{3}/2 - \\sigma^z_{4}/2) + 10*(1/2 - \\sigma^z_{3}/2)*(1/2 - \\sigma^z_{4}/2)*(1/2 - \\sigma^z_{5}/2)*(1/2 - \\sigma^z_{6}/2) + 10*(1/2 - \\sigma^z_{3}/2)*(1/2 - \\sigma^z_{5}/2)*(-\\sigma^z_{3}/2 + \\sigma^z_{4}/2)*(-\\sigma^z_{5}/2 + \\sigma^z_{6}/2) + 10*(1/2 - \\sigma^z_{4}/2)*(1/2 - \\sigma^z_{6}/2)*(\\sigma^z_{3}/2 - \\sigma^z_{4}/2)*(\\sigma^z_{5}/2 - \\sigma^z_{6}/2) + 10*(\\sigma^z_{0}/2 + 1/2)*(\\sigma^z_{1}/2 + 1/2)*(\\sigma^z_{2}/2 + 1/2)*(\\sigma^z_{7}/2 + 1/2) + 10*(\\sigma^z_{1}/2 + 1/2)*(\\sigma^z_{2}/2 + 1/2)*(\\sigma^z_{3}/2 + 1/2)*(\\sigma^z_{4}/2 + 1/2) + 10*(\\sigma^z_{3}/2 + 1/2)*(\\sigma^z_{4}/2 + 1/2)*(\\sigma^z_{5}/2 + 1/2)*(\\sigma^z_{6}/2 + 1/2)"
      ]
     },
     "execution_count": 124,
     "metadata": {},
     "output_type": "execute_result"
    }
   ],
   "source": [
    "H_back"
   ]
  },
  {
   "cell_type": "code",
   "execution_count": 125,
   "id": "impressive-expert",
   "metadata": {},
   "outputs": [
    {
     "data": {
      "text/latex": [
       "$\\displaystyle - \\frac{5 \\sigma^z_{0} \\sigma^z_{7}}{2} - \\frac{5 \\sigma^z_{0}}{2} + \\frac{5 \\sigma^z_{7}}{2} + \\frac{5}{2}$"
      ],
      "text/plain": [
       "-5*\\sigma^z_{0}*\\sigma^z_{7}/2 - 5*\\sigma^z_{0}/2 + 5*\\sigma^z_{7}/2 + 5/2"
      ]
     },
     "execution_count": 125,
     "metadata": {},
     "output_type": "execute_result"
    }
   ],
   "source": [
    "H_back_simplified"
   ]
  },
  {
   "cell_type": "code",
   "execution_count": null,
   "id": "active-strike",
   "metadata": {},
   "outputs": [],
   "source": []
  }
 ],
 "metadata": {
  "kernelspec": {
   "display_name": "Python 3",
   "language": "python",
   "name": "python3"
  },
  "language_info": {
   "codemirror_mode": {
    "name": "ipython",
    "version": 3
   },
   "file_extension": ".py",
   "mimetype": "text/x-python",
   "name": "python",
   "nbconvert_exporter": "python",
   "pygments_lexer": "ipython3",
   "version": "3.8.5"
  }
 },
 "nbformat": 4,
 "nbformat_minor": 5
}
